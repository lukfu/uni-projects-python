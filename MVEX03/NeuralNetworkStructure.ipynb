{
 "cells": [
  {
   "cell_type": "code",
   "execution_count": 1,
   "id": "bf517291-d9b4-4230-a70a-ae712fff1bc9",
   "metadata": {},
   "outputs": [
    {
     "name": "stdout",
     "output_type": "stream",
     "text": [
      "Using cpu device\n"
     ]
    }
   ],
   "source": [
    "import os\n",
    "import torch\n",
    "from torch import nn\n",
    "from torch.utils.data import DataLoader\n",
    "from torchvision import datasets, transforms\n",
    "\n",
    "device = (\n",
    "    \"cuda\"\n",
    "    if torch.cuda.is_available()\n",
    "    else \"mps\"\n",
    "    if torch.backends.mps.is_available()\n",
    "    else \"cpu\"\n",
    ")\n",
    "print(f\"Using {device} device\")"
   ]
  },
  {
   "cell_type": "code",
   "execution_count": 14,
   "id": "52e0cf14-1567-4e9d-86b3-cc65ef35e859",
   "metadata": {},
   "outputs": [
    {
     "name": "stdout",
     "output_type": "stream",
     "text": [
      "NeuralNetwork(\n",
      "  (flatten): Flatten(start_dim=1, end_dim=-1)\n",
      "  (linear_relu_stack): Sequential(\n",
      "    (0): Linear(in_features=784, out_features=512, bias=True)\n",
      "    (1): ReLU()\n",
      "    (2): Linear(in_features=512, out_features=512, bias=True)\n",
      "    (3): ReLU()\n",
      "    (4): Linear(in_features=512, out_features=10, bias=True)\n",
      "  )\n",
      ")\n"
     ]
    }
   ],
   "source": [
    "class NeuralNetwork(nn.Module):  # building the structure of the neural network\n",
    "    def __init__(self):\n",
    "        super().__init__()\n",
    "        self.flatten = nn.Flatten()\n",
    "        self.linear_relu_stack = nn.Sequential(\n",
    "            nn.Linear(28*28, 512),\n",
    "            nn.ReLU(),\n",
    "            nn.Linear(512,512),\n",
    "            nn.ReLU(),\n",
    "            nn.Linear(512,10),\n",
    "        )\n",
    "\n",
    "    def forward(self, x):\n",
    "        x = self.flatten(x)\n",
    "        logits = self.linear_relu_stack(x)\n",
    "        return logits\n",
    "\n",
    "model = NeuralNetwork().to(device)\n",
    "print(model)"
   ]
  },
  {
   "cell_type": "code",
   "execution_count": 15,
   "id": "5d089f9b-42cb-44cf-a76b-2a8202425b29",
   "metadata": {},
   "outputs": [
    {
     "name": "stdout",
     "output_type": "stream",
     "text": [
      "Predicted class: tensor([2])\n"
     ]
    }
   ],
   "source": [
    "X = torch.rand(1, 28, 28, device=device)\n",
    "logits = model(X)\n",
    "pred_prob = nn.Softmax(dim=1)(logits)  # passing logits, values of [-infty, infty] through softmax gives prediction probabilities\n",
    "y_pred = pred_prob.argmax(1)\n",
    "print(f\"Predicted class: {y_pred}\")"
   ]
  },
  {
   "cell_type": "code",
   "execution_count": 16,
   "id": "36bb4110-339f-4b8e-a002-d0ba61f94309",
   "metadata": {},
   "outputs": [
    {
     "name": "stdout",
     "output_type": "stream",
     "text": [
      "torch.Size([3, 28, 28])\n",
      "torch.Size([3, 784])\n"
     ]
    }
   ],
   "source": [
    "input_image = torch.rand(3,28,28)\n",
    "print(input_image.size())\n",
    "flatten = nn.Flatten()  # flatten converts 2D images to a contiguous array of 1D pixels\n",
    "flat_image = flatten(input_image)\n",
    "print(flat_image.size())"
   ]
  },
  {
   "cell_type": "code",
   "execution_count": 9,
   "id": "ea1a9567-49f9-4448-a734-881a9d4dbc46",
   "metadata": {},
   "outputs": [
    {
     "name": "stdout",
     "output_type": "stream",
     "text": [
      "torch.Size([3, 20])\n"
     ]
    }
   ],
   "source": [
    "layer1 = nn.Linear(in_features=28*28, out_features=20)\n",
    "hidden1 = layer1(flat_image)\n",
    "print(hidden1.size())"
   ]
  },
  {
   "cell_type": "code",
   "execution_count": 10,
   "id": "836d3651-5ec9-4739-af19-282b0b13d35e",
   "metadata": {},
   "outputs": [
    {
     "name": "stdout",
     "output_type": "stream",
     "text": [
      "Before ReLU: tensor([[-0.4155, -0.5589,  0.2473,  0.7436, -0.1416, -0.2666,  0.2172, -0.1430,\n",
      "          0.0735,  0.2477,  0.2243,  0.0604, -0.2217, -0.4496,  0.2374,  0.1443,\n",
      "         -0.5686,  0.1940, -0.3808, -0.2545],\n",
      "        [-0.3997, -0.5738,  0.0823,  0.7159,  0.0739, -0.3660,  0.4281, -0.2775,\n",
      "          0.3078,  0.0474,  0.0374,  0.0119, -0.3232, -0.2531,  0.0965,  0.4929,\n",
      "         -0.0331,  0.0199, -0.5695, -0.3444],\n",
      "        [ 0.0408, -0.4701,  0.4167,  0.8880, -0.0043, -0.4509,  0.0025, -0.2025,\n",
      "          0.3272,  0.1951, -0.4483, -0.0354, -0.0908, -0.0114,  0.0630,  0.0481,\n",
      "         -0.5494, -0.0236, -0.3765, -0.1958]], grad_fn=<AddmmBackward0>)\n",
      "\n",
      "\n",
      "After ReLU: tensor([[0.0000, 0.0000, 0.2473, 0.7436, 0.0000, 0.0000, 0.2172, 0.0000, 0.0735,\n",
      "         0.2477, 0.2243, 0.0604, 0.0000, 0.0000, 0.2374, 0.1443, 0.0000, 0.1940,\n",
      "         0.0000, 0.0000],\n",
      "        [0.0000, 0.0000, 0.0823, 0.7159, 0.0739, 0.0000, 0.4281, 0.0000, 0.3078,\n",
      "         0.0474, 0.0374, 0.0119, 0.0000, 0.0000, 0.0965, 0.4929, 0.0000, 0.0199,\n",
      "         0.0000, 0.0000],\n",
      "        [0.0408, 0.0000, 0.4167, 0.8880, 0.0000, 0.0000, 0.0025, 0.0000, 0.3272,\n",
      "         0.1951, 0.0000, 0.0000, 0.0000, 0.0000, 0.0630, 0.0481, 0.0000, 0.0000,\n",
      "         0.0000, 0.0000]], grad_fn=<ReluBackward0>)\n"
     ]
    }
   ],
   "source": [
    "print(f\"Before ReLU: {hidden1}\\n\\n\")\n",
    "hidden1 = nn.ReLU()(hidden1)\n",
    "print(f\"After ReLU: {hidden1}\")"
   ]
  },
  {
   "cell_type": "code",
   "execution_count": 12,
   "id": "3394730f-a3df-49bd-b840-6d98e0ee64cf",
   "metadata": {},
   "outputs": [],
   "source": [
    "seq_modules = nn.Sequential(\n",
    "    flatten,\n",
    "    layer1,\n",
    "    nn.ReLU(),\n",
    "    nn.Linear(20,10)\n",
    ")\n",
    "input_image = torch.rand(3,28,28)\n",
    "logits = seq_modules(input_image)  # logits are raw values in the range [-infty, infty]\n",
    "softmax = nn.Softmax(dim=1)\n",
    "pred_prob = softmax(logits)"
   ]
  },
  {
   "cell_type": "code",
   "execution_count": 13,
   "id": "ee269ee9-1cfa-4201-9d97-d5dd01941405",
   "metadata": {},
   "outputs": [
    {
     "name": "stdout",
     "output_type": "stream",
     "text": [
      "Model structure: NeuralNetwork(\n",
      "  (flatten): Flatten(start_dim=1, end_dim=-1)\n",
      "  (linear_relu_stack): Sequential(\n",
      "    (0): Linear(in_features=784, out_features=512, bias=True)\n",
      "    (1): ReLU()\n",
      "    (2): Linear(in_features=512, out_features=512, bias=True)\n",
      "    (3): ReLU()\n",
      "    (4): Linear(in_features=512, out_features=10, bias=True)\n",
      "  )\n",
      ")\n",
      "\n",
      "\n",
      "Layer: linear_relu_stack.0.weight | Size :torch.Size([512, 784]) | Values: tensor([[-0.0143, -0.0304, -0.0207,  ...,  0.0042,  0.0166,  0.0017],\n",
      "        [ 0.0136, -0.0252, -0.0243,  ..., -0.0210, -0.0137,  0.0102]],\n",
      "       grad_fn=<SliceBackward0>) \n",
      "\n",
      "Layer: linear_relu_stack.0.bias | Size :torch.Size([512]) | Values: tensor([ 0.0278, -0.0152], grad_fn=<SliceBackward0>) \n",
      "\n",
      "Layer: linear_relu_stack.2.weight | Size :torch.Size([512, 512]) | Values: tensor([[-0.0233, -0.0046, -0.0331,  ...,  0.0302,  0.0365, -0.0162],\n",
      "        [ 0.0275,  0.0396, -0.0093,  ...,  0.0395,  0.0391,  0.0240]],\n",
      "       grad_fn=<SliceBackward0>) \n",
      "\n",
      "Layer: linear_relu_stack.2.bias | Size :torch.Size([512]) | Values: tensor([ 0.0413, -0.0086], grad_fn=<SliceBackward0>) \n",
      "\n",
      "Layer: linear_relu_stack.4.weight | Size :torch.Size([10, 512]) | Values: tensor([[ 0.0132,  0.0266,  0.0311,  ..., -0.0227, -0.0097,  0.0147],\n",
      "        [ 0.0351,  0.0191, -0.0282,  ...,  0.0329,  0.0338, -0.0241]],\n",
      "       grad_fn=<SliceBackward0>) \n",
      "\n",
      "Layer: linear_relu_stack.4.bias | Size :torch.Size([10]) | Values: tensor([0.0172, 0.0193], grad_fn=<SliceBackward0>) \n",
      "\n"
     ]
    }
   ],
   "source": [
    "print(f\"Model structure: {model}\\n\\n\")\n",
    "for name, param in model.named_parameters():\n",
    "    print(f\"Layer: {name} | Size :{param.size()} | Values: {param[:2]} \\n\")"
   ]
  },
  {
   "cell_type": "code",
   "execution_count": null,
   "id": "6f42fd43-a550-4909-91a1-2005fca3d6bf",
   "metadata": {},
   "outputs": [],
   "source": []
  }
 ],
 "metadata": {
  "kernelspec": {
   "display_name": "Python 3 (ipykernel)",
   "language": "python",
   "name": "python3"
  },
  "language_info": {
   "codemirror_mode": {
    "name": "ipython",
    "version": 3
   },
   "file_extension": ".py",
   "mimetype": "text/x-python",
   "name": "python",
   "nbconvert_exporter": "python",
   "pygments_lexer": "ipython3",
   "version": "3.10.2"
  }
 },
 "nbformat": 4,
 "nbformat_minor": 5
}

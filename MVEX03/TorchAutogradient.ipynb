{
 "cells": [
  {
   "cell_type": "code",
   "execution_count": 10,
   "id": "bd2cec1c-8fae-4293-a4e2-a22a575c7d5b",
   "metadata": {},
   "outputs": [
    {
     "name": "stdout",
     "output_type": "stream",
     "text": [
      "Gradient function for z = <AddBackward0 object at 0x00000153190031C0>\n",
      "Gradient function for loss = <BinaryCrossEntropyWithLogitsBackward0 object at 0x0000015319003400>\n",
      "tensor([[0.0093, 0.3239, 0.1364],\n",
      "        [0.0093, 0.3239, 0.1364],\n",
      "        [0.0093, 0.3239, 0.1364],\n",
      "        [0.0093, 0.3239, 0.1364],\n",
      "        [0.0093, 0.3239, 0.1364]])\n",
      "tensor([0.0093, 0.3239, 0.1364])\n"
     ]
    }
   ],
   "source": [
    "import torch\n",
    "\n",
    "x = torch.ones(5)\n",
    "y = torch.zeros(3)\n",
    "w = torch.randn(5, 3, requires_grad=True)  # requires_grad gives property of needing computation of gradient of loss function for the parameter\n",
    "b = torch.randn(3, requires_grad=True)\n",
    "z = torch.matmul(x, w) + b\n",
    "loss = torch.nn.functional.binary_cross_entropy_with_logits(z,y)\n",
    "\n",
    "print(f\"Gradient function for z = {z.grad_fn}\")\n",
    "print(f\"Gradient function for loss = {loss.grad_fn}\")\n",
    "\n",
    "loss.backward()\n",
    "print(w.grad)\n",
    "print(b.grad)\n",
    "# can only obtain grad if the requires_grad property is set to true\n",
    "# gradient calc with backward only possible once, if multiple are needed, retain_graph=True needs to be set to the backward call"
   ]
  },
  {
   "cell_type": "code",
   "execution_count": 12,
   "id": "1fdca10d-339a-42f2-b1ab-561fb9eddbc6",
   "metadata": {},
   "outputs": [
    {
     "name": "stdout",
     "output_type": "stream",
     "text": [
      "True\n",
      "False\n",
      "True\n",
      "False\n"
     ]
    }
   ],
   "source": [
    "print(z.requires_grad)\n",
    "with torch.no_grad():\n",
    "    z = torch.matmul(x, w) + b\n",
    "print(z.requires_grad)\n",
    "\n",
    "z = torch.matmul(x, w) + b\n",
    "print(z.requires_grad)\n",
    "z_det = z.detach()\n",
    "print(z_det.requires_grad)\n",
    "# disabling gradient tracking\n",
    "# can be useful if:\n",
    "  # you want mark some parameters as frozen parameters\n",
    "  # you want to speed up computations when only doing forward pass since tensors that dont track gradients are more efficient"
   ]
  },
  {
   "cell_type": "code",
   "execution_count": null,
   "id": "c5bb3c65-6a13-4c61-964d-ffe87d6015f0",
   "metadata": {},
   "outputs": [],
   "source": []
  }
 ],
 "metadata": {
  "kernelspec": {
   "display_name": "Python 3 (ipykernel)",
   "language": "python",
   "name": "python3"
  },
  "language_info": {
   "codemirror_mode": {
    "name": "ipython",
    "version": 3
   },
   "file_extension": ".py",
   "mimetype": "text/x-python",
   "name": "python",
   "nbconvert_exporter": "python",
   "pygments_lexer": "ipython3",
   "version": "3.10.2"
  }
 },
 "nbformat": 4,
 "nbformat_minor": 5
}
